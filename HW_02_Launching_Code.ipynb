{
 "cells": [
  {
   "cell_type": "code",
   "execution_count": 66,
   "metadata": {},
   "outputs": [],
   "source": [
    "# Author: Joseph Stapleton\n",
    "# Date: 20200129\n",
    "# CS301-006, Professor Watson\n",
    "# HW## Solution\n",
    "# Find quartiles in different ways\n",
    "# link to the git repo (ex: https://github.com/cww5/web_scraper)\n",
    "# link-to-the-relevant-git-commit (ex: https://github.com/cww5/web_scraper/tree/60e907c00ecbe21bc6a543621c9683ebf7f9693a)\n",
    "# name-of-the-branch (ex: master)"
   ]
  },
  {
   "cell_type": "markdown",
   "metadata": {},
   "source": [
    "## HW 02 - Base Code to Start"
   ]
  },
  {
   "cell_type": "markdown",
   "metadata": {},
   "source": [
    "#### Use these two samples to test your functions"
   ]
  },
  {
   "cell_type": "code",
   "execution_count": 67,
   "metadata": {},
   "outputs": [],
   "source": [
    "grades = [0, 0, 14, 35, 63, 66, 75, 77, 78, 80, 81, 81, 87, 89, 90, 91, 100]"
   ]
  },
  {
   "cell_type": "code",
   "execution_count": 68,
   "metadata": {},
   "outputs": [],
   "source": [
    "times = [5, 10, 10, 15, 15, 15, 15, 20, 20, 20, 25, 30, 30, 40, 40, 45, 60, 60, 65, 89]"
   ]
  },
  {
   "cell_type": "markdown",
   "metadata": {},
   "source": [
    "### Please answer Problem 2 below:"
   ]
  },
  {
   "cell_type": "code",
   "execution_count": 69,
   "metadata": {},
   "outputs": [],
   "source": [
    "import numpy as np\n",
    "\n",
    "def q_summary_V1(nums):\n",
    "    d={}\n",
    "    length = len(nums)\n",
    "    d['min'] = np.quantile(nums, 0)\n",
    "    d['q1'] = np.quantile(nums, 0.25)\n",
    "    d['q2'] = np.quantile(nums, 0.50)\n",
    "    d['q3'] = np.quantile(nums, 0.75)\n",
    "    d['max'] = np.quantile(nums, 1)\n",
    "    \n",
    "    iqr = d['q3'] - d['q1']\n",
    "    outliers = []\n",
    "    for num in nums:\n",
    "        if num < (d['q1']-1.5*iqr) or num > (d['q3']+1.5*iqr):\n",
    "            outliers.append(num)   \n",
    "            \n",
    "    index = 0\n",
    "    while d['min'] in outliers:\n",
    "        index +=1\n",
    "        d['min'] = nums[index]\n",
    "    \n",
    "    while d['max'] in outliers:\n",
    "        length -=1\n",
    "        d['max'] = nums[length]\n",
    "        \n",
    "    if len(outliers) > 0:\n",
    "        print(\"The outliers are \", outliers)\n",
    "    \n",
    "    return d"
   ]
  },
  {
   "cell_type": "code",
   "execution_count": 70,
   "metadata": {},
   "outputs": [
    {
     "name": "stdout",
     "output_type": "stream",
     "text": [
      "The outliers are  [0, 0, 14]\n",
      "{'min': 35, 'q1': 63.0, 'q2': 78.0, 'q3': 87.0, 'max': 100.0}\n"
     ]
    }
   ],
   "source": [
    "print(q_summary_V1(grades))"
   ]
  },
  {
   "cell_type": "code",
   "execution_count": 71,
   "metadata": {},
   "outputs": [
    {
     "name": "stdout",
     "output_type": "stream",
     "text": [
      "The outliers are  [89]\n",
      "{'min': 5.0, 'q1': 15.0, 'q2': 22.5, 'q3': 41.25, 'max': 65}\n"
     ]
    }
   ],
   "source": [
    "print(q_summary_V1(times))"
   ]
  },
  {
   "cell_type": "code",
   "execution_count": null,
   "metadata": {},
   "outputs": [],
   "source": []
  },
  {
   "cell_type": "code",
   "execution_count": null,
   "metadata": {},
   "outputs": [],
   "source": []
  },
  {
   "cell_type": "code",
   "execution_count": null,
   "metadata": {},
   "outputs": [],
   "source": []
  },
  {
   "cell_type": "markdown",
   "metadata": {},
   "source": [
    "### Please answer Problem 3 below:"
   ]
  },
  {
   "cell_type": "code",
   "execution_count": 72,
   "metadata": {},
   "outputs": [],
   "source": [
    "def get_quantile_indexes(n, p):\n",
    "    '''\n",
    "    Calculate index values as input for interpolation\n",
    "    \n",
    "    input\n",
    "    _____\n",
    "    n (list) - the list of numbers\n",
    "    p (float) - the percentage corresponding to the quantile (ex:0.25)\n",
    "    \n",
    "    output\n",
    "    ______\n",
    "    l, i, u (float) - the corresponding x1, x, x1 values as calculated via class\n",
    "    '''\n",
    "    i = p*(n+1) - 1\n",
    "    l = np.floor(i)\n",
    "    u = np.ceil(i)\n",
    "    return l,i,u\n",
    "\n",
    "\n",
    "def get_quantile(nums, q):\n",
    "    '''\n",
    "    Use the in-class method of interpolation to calculate the quantile\n",
    "    \n",
    "    input\n",
    "    _____\n",
    "    nums (list) - the list of numbers\n",
    "    q (float) - the quantile desired\n",
    "    \n",
    "    output\n",
    "    ______\n",
    "    y (int/float) - this is the value in nums at the given quantile q\n",
    "    '''\n",
    "    x1, x, x2 = get_quantile_indexes(len(nums),q)\n",
    "    if np.floor(x) == x1 and np.ceil(x) == x1:\n",
    "        x = int(x)\n",
    "        y = nums[x]\n",
    "        # print('x = {}, y = {}'.format(x, y))\n",
    "        return y\n",
    "        \n",
    "    # print('x1, x, x2 = {}, {}, {}'.format(x1, x, x2))\n",
    "    y1, y2 = nums[int(x1)], nums[int(x2)]\n",
    "    # print('y1, y2 = {}, {}'.format(y1, y2))\n",
    "    y = (x - x1) * (y1-y2) / (x1 - x2) + y1\n",
    "    # print('y =', y)\n",
    "    return y"
   ]
  },
  {
   "cell_type": "code",
   "execution_count": 73,
   "metadata": {},
   "outputs": [],
   "source": [
    "def q_summary_V2(nums):\n",
    "    d={}\n",
    "    length = len(nums)\n",
    "    d['min'] = nums[0]\n",
    "    d['q1'] = get_quantile(nums, 0.25)\n",
    "    d['q2'] = get_quantile(nums, 0.50)\n",
    "    d['q3'] = get_quantile(nums, 0.75)\n",
    "    d['max'] = nums[-1]\n",
    "    \n",
    "    iqr = d['q3'] - d['q1']\n",
    "    outliers = []\n",
    "    for num in nums:\n",
    "        if num < (d['q1']-1.5*iqr) or num > (d['q3']+1.5*iqr):\n",
    "            outliers.append(num) \n",
    "            \n",
    "    index = 0\n",
    "    while d['min'] in outliers:\n",
    "        index +=1\n",
    "        d['min'] = nums[index]\n",
    "    \n",
    "    while d['max'] in outliers:\n",
    "        length -=1\n",
    "        d['max'] = nums[length]\n",
    "    if len(outliers) > 0:\n",
    "        print(\"The outliers are \", outliers)\n",
    "    \n",
    "    return d"
   ]
  },
  {
   "cell_type": "code",
   "execution_count": 74,
   "metadata": {},
   "outputs": [
    {
     "name": "stdout",
     "output_type": "stream",
     "text": [
      "{'min': 0, 'q1': 49.0, 'q2': 78, 'q3': 88.0, 'max': 100}\n"
     ]
    }
   ],
   "source": [
    "print(q_summary_V2(grades))"
   ]
  },
  {
   "cell_type": "code",
   "execution_count": 75,
   "metadata": {},
   "outputs": [
    {
     "name": "stdout",
     "output_type": "stream",
     "text": [
      "The outliers are  [89]\n",
      "{'min': 5, 'q1': 15.0, 'q2': 22.5, 'q3': 43.75, 'max': 65}\n"
     ]
    }
   ],
   "source": [
    "print(q_summary_V2(times))"
   ]
  }
 ],
 "metadata": {
  "kernelspec": {
   "display_name": "Python 3",
   "language": "python",
   "name": "python3"
  },
  "language_info": {
   "codemirror_mode": {
    "name": "ipython",
    "version": 3
   },
   "file_extension": ".py",
   "mimetype": "text/x-python",
   "name": "python",
   "nbconvert_exporter": "python",
   "pygments_lexer": "ipython3",
   "version": "3.7.3"
  }
 },
 "nbformat": 4,
 "nbformat_minor": 2
}
