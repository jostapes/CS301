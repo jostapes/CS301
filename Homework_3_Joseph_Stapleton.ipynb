{
 "cells": [
  {
   "cell_type": "code",
   "execution_count": 3,
   "metadata": {},
   "outputs": [],
   "source": [
    "# Author: Joseph Stapleton\n",
    "# Date: 20200216\n",
    "# CS301-006, Professor Watson\n",
    "# HW03 Solution\n",
    "# Brief description of the assignment / project / work that is done:\n",
    "#        Manipulate dataframes to get specific data\n",
    "# link to the git repo (ex: https://github.com/cww5/web_scraper)\n",
    "# link-to-the-relevant-git-commit (ex: https://github.com/cww5/web_scraper/tree/60e907c00ecbe21bc6a543621c9683ebf7f9693a)\n",
    "# name-of-the-branch (ex: master)"
   ]
  },
  {
   "cell_type": "markdown",
   "metadata": {},
   "source": [
    "### Problem 1"
   ]
  },
  {
   "cell_type": "code",
   "execution_count": 4,
   "metadata": {},
   "outputs": [],
   "source": [
    "import pandas as pd\n",
    "def data_reader(data_path):\n",
    "    try: # return a DataFram containing data in the file\n",
    "        df = pd.read_csv(data_path)\n",
    "        print(\"The shape is: {}\".format(df.shape))\n",
    "        return df\n",
    "    except:\n",
    "        print(\"Error during reading, please try again.\")\n",
    "        return None"
   ]
  },
  {
   "cell_type": "code",
   "execution_count": 5,
   "metadata": {},
   "outputs": [
    {
     "name": "stdout",
     "output_type": "stream",
     "text": [
      "The shape is: (193, 6)\n"
     ]
    }
   ],
   "source": [
    "my = data_reader('C:\\\\Users\\\\aweso\\\\Downloads\\\\drinks.csv')"
   ]
  },
  {
   "cell_type": "code",
   "execution_count": 6,
   "metadata": {},
   "outputs": [
    {
     "name": "stdout",
     "output_type": "stream",
     "text": [
      "Error during reading, please try again.\n"
     ]
    }
   ],
   "source": [
    "my = data_reader('i_dont_exist.csv')"
   ]
  },
  {
   "cell_type": "markdown",
   "metadata": {},
   "source": [
    "### Problem 2"
   ]
  },
  {
   "cell_type": "code",
   "execution_count": 9,
   "metadata": {},
   "outputs": [],
   "source": [
    "def get_num_outliers(df, col):\n",
    "    iqr = df[col].quantile(.75) - df[col].quantile(.25)\n",
    "    low = df[col].quantile(.25) - 1.5*iqr\n",
    "    high = df[col].quantile(.75) + 1.5*iqr\n",
    "    count = 0\n",
    "    dfc = df[col]\n",
    "    for i in dfc.iteritems():\n",
    "        if i[1]<low or i[1]>high:\n",
    "            count +=1\n",
    "    return count"
   ]
  },
  {
   "cell_type": "code",
   "execution_count": 10,
   "metadata": {},
   "outputs": [
    {
     "data": {
      "text/plain": [
       "26"
      ]
     },
     "execution_count": 10,
     "metadata": {},
     "output_type": "execute_result"
    }
   ],
   "source": [
    "df = pd.read_csv('C:\\\\Users\\\\aweso\\\\Downloads\\\\drinks.csv')\n",
    "get_num_outliers(df, 'wine_servings')"
   ]
  },
  {
   "cell_type": "code",
   "execution_count": 11,
   "metadata": {},
   "outputs": [],
   "source": [
    "def get_num_deviants(df, col, multiplier):\n",
    "    std = df[col].std()\n",
    "    mean = df[col].mean()\n",
    "    dfc = df[col]\n",
    "    \n",
    "    low = mean - multiplier * std\n",
    "    high = mean + multiplier * std\n",
    "    \n",
    "    count = 0\n",
    "    for i in dfc.iteritems():\n",
    "        if i[1]<low or i[1]>high:\n",
    "            count +=1\n",
    "    return count"
   ]
  },
  {
   "cell_type": "code",
   "execution_count": 12,
   "metadata": {},
   "outputs": [
    {
     "data": {
      "text/plain": [
       "28"
      ]
     },
     "execution_count": 12,
     "metadata": {},
     "output_type": "execute_result"
    }
   ],
   "source": [
    "df = pd.read_csv('C:\\\\Users\\\\aweso\\\\Downloads\\\\drinks.csv')\n",
    "get_num_deviants(df, 'wine_servings',1)\n"
   ]
  },
  {
   "cell_type": "code",
   "execution_count": 13,
   "metadata": {},
   "outputs": [
    {
     "data": {
      "text/plain": [
       "15"
      ]
     },
     "execution_count": 13,
     "metadata": {},
     "output_type": "execute_result"
    }
   ],
   "source": [
    "df = pd.read_csv('C:\\\\Users\\\\aweso\\\\Downloads\\\\drinks.csv')\n",
    "get_num_deviants(df, 'wine_servings', 2)"
   ]
  },
  {
   "cell_type": "code",
   "execution_count": 14,
   "metadata": {},
   "outputs": [
    {
     "data": {
      "text/plain": [
       "193"
      ]
     },
     "execution_count": 14,
     "metadata": {},
     "output_type": "execute_result"
    }
   ],
   "source": [
    "df = pd.read_csv('C:\\\\Users\\\\aweso\\\\Downloads\\\\drinks.csv')\n",
    "get_num_deviants(df, 'wine_servings', -1)"
   ]
  },
  {
   "cell_type": "code",
   "execution_count": null,
   "metadata": {},
   "outputs": [],
   "source": []
  }
 ],
 "metadata": {
  "kernelspec": {
   "display_name": "Python 3",
   "language": "python",
   "name": "python3"
  },
  "language_info": {
   "codemirror_mode": {
    "name": "ipython",
    "version": 3
   },
   "file_extension": ".py",
   "mimetype": "text/x-python",
   "name": "python",
   "nbconvert_exporter": "python",
   "pygments_lexer": "ipython3",
   "version": "3.7.3"
  }
 },
 "nbformat": 4,
 "nbformat_minor": 2
}
